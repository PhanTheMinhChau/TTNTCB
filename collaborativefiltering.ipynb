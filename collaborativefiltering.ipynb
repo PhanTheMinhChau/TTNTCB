{
  "nbformat": 4,
  "nbformat_minor": 0,
  "metadata": {
    "colab": {
      "provenance": [],
      "authorship_tag": "ABX9TyOoozmOjd0GSahjVbWOj5iK",
      "include_colab_link": true
    },
    "kernelspec": {
      "name": "python3",
      "display_name": "Python 3"
    },
    "language_info": {
      "name": "python"
    }
  },
  "cells": [
    {
      "cell_type": "markdown",
      "metadata": {
        "id": "view-in-github",
        "colab_type": "text"
      },
      "source": [
        "<a href=\"https://colab.research.google.com/github/PhanTheMinhChau/TTNTCB/blob/main/collaborativefiltering.ipynb\" target=\"_parent\"><img src=\"https://colab.research.google.com/assets/colab-badge.svg\" alt=\"Open In Colab\"/></a>"
      ]
    },
    {
      "cell_type": "code",
      "source": [
        "!unzip /content/ml-100k.zip"
      ],
      "metadata": {
        "id": "v-3WEOVd3l9u"
      },
      "execution_count": null,
      "outputs": []
    },
    {
      "cell_type": "code",
      "execution_count": 134,
      "metadata": {
        "id": "npvMBhFR1QJ7"
      },
      "outputs": [],
      "source": [
        "import pandas as pd\n",
        "import numpy as np\n",
        "from sklearn.metrics.pairwise import cosine_similarity\n",
        "from scipy import sparse\n",
        "\n",
        "#Khởi tạo class collaborativefiltering\n",
        "class CF(object):\n",
        "    def __init__(self, Y_data, k, dist_func = cosine_similarity, uuCF = 1):\n",
        "        self.uuCF = uuCF # user-user (1) hoặc item-item (0) CF\n",
        "        self.Y_data = Y_data if uuCF else Y_data[:, [1, 0, 2]]\n",
        "        self.k = k\n",
        "        self.dist_func = dist_func\n",
        "        self.Ybar_data = None\n",
        "        self.n_users = int(np.max(self.Y_data[:, 0])) + 1\n",
        "        self.n_items = int(np.max(self.Y_data[:, 1])) + 1\n",
        "\n",
        "    def add(self, new_data):\n",
        "        self.Y_data = np.concatenate((self.Y_data, new_data), axis = 0)\n",
        "\n",
        "    #Hàm chuẩn hóa\n",
        "    def normalize_Y(self):\n",
        "        users = self.Y_data[:, 0] # all users - first col of the Y_data\n",
        "        self.Ybar_data = self.Y_data.copy()\n",
        "        self.mu = np.zeros((self.n_users,))\n",
        "        for n in range(self.n_users):\n",
        "            ids = np.where(users == n)[0].astype(np.int32)\n",
        "            item_ids = self.Y_data[ids, 1]\n",
        "            ratings = self.Y_data[ids, 2]\n",
        "            m = np.mean(ratings)\n",
        "            if np.isnan(m):\n",
        "              self.mu[n] = m\n",
        "            self.Ybar_data[ids, 2] = ratings - self.mu[n]\n",
        "        self.Ybar = sparse.coo_matrix((self.Ybar_data[:, 2],\n",
        "            (self.Ybar_data[:, 1], self.Ybar_data[:, 0])), (self.n_items, self.n_users))\n",
        "        self.Ybar = self.Ybar.tocsr()\n",
        "\n",
        "    #Hàm tính khoảng cách tương đồng\n",
        "    def similarity(self):\n",
        "        eps = 1e-6\n",
        "        self.S = self.dist_func(self.Ybar.T, self.Ybar.T)\n",
        "\n",
        "\n",
        "    def refresh(self):\n",
        "        self.normalize_Y()\n",
        "        self.similarity()\n",
        "\n",
        "    def fit(self):\n",
        "        self.refresh()\n",
        "\n",
        "    #Hàm dự đoán rating\n",
        "    def pred(self, u, i, normalized = 1):\n",
        "        if self.uuCF: return self.__pred(u, i, normalized)\n",
        "        return self.__pred(i, u, normalized)\n",
        "\n",
        "    def __pred(self, u, i, normalized = 1):\n",
        "        ids = np.where(self.Y_data[:, 1] == i)[0].astype(np.int32)\n",
        "        users_rated_i = (self.Y_data[ids, 0]).astype(np.int32)\n",
        "        sim = self.S[u, users_rated_i]\n",
        "        a = np.argsort(sim)[-self.k:]\n",
        "        nearest_s = sim[a]\n",
        "        r = self.Ybar[i, users_rated_i[a]]\n",
        "        if normalized:\n",
        "            return (r*nearest_s)[0]/(np.abs(nearest_s).sum() + 1e-8)\n",
        "        return (r*nearest_s)[0]/(np.abs(nearest_s).sum() + 1e-8) + self.mu[u]\n",
        "\n",
        "    #Hàm in ra t bộ phim mà người dùng có id u có thể thích nhất\n",
        "    def recommend(self, u, t):\n",
        "        ids = np.where(self.Y_data[:, 1] == u)[0]\n",
        "        items_rated_by_u = self.Y_data[ids, 0].tolist()\n",
        "        recommended_items = []\n",
        "        for i in range(self.n_users):\n",
        "            if i not in items_rated_by_u:\n",
        "                rating = self.__pred(i, u)\n",
        "                if rating > 0:\n",
        "                    recommended_items.append([i,rating])\n",
        "        sorted_data = sorted(recommended_items, key=lambda x: x[1], reverse=True)\n",
        "        top_3_elements = sorted_data[:t]\n",
        "        print(str(t) + \" bộ phim mà người dùng \"+ str(u) +\" có thể thích nhất là:\")\n",
        "        return top_3_elements"
      ]
    },
    {
      "cell_type": "code",
      "source": [
        "r_cols = ['user_id', 'movie_id', 'rating', 'unix_timestamp']\n",
        "ratings_base = pd.read_csv('ml-100k/ub.base', sep='\\t', names=r_cols, encoding='latin-1') #đọc dữ liệu tập train\n",
        "ratings_test = pd.read_csv('ml-100k/ub.test', sep='\\t', names=r_cols, encoding='latin-1') #đọc dữ liệu tập test\n",
        "\n",
        "rate_train = ratings_base.values\n",
        "rate_test = ratings_test.values\n",
        "\n",
        "rate_train[:, :2] -= 1\n",
        "rate_test[:, :2] -= 1"
      ],
      "metadata": {
        "id": "ulFPYvFH5v5G"
      },
      "execution_count": 36,
      "outputs": []
    },
    {
      "cell_type": "markdown",
      "source": [
        "#User-user CF"
      ],
      "metadata": {
        "id": "ZT8lisR6L_ZF"
      }
    },
    {
      "cell_type": "code",
      "source": [
        "rs = CF(rate_train, k = 30, uuCF = 1)\n",
        "rs.fit()\n",
        "\n",
        "n_tests = rate_test.shape[0]\n",
        "SE = 0 # squared error\n",
        "for n in range(n_tests):\n",
        "    pred = rs.pred(rate_test[n, 0], rate_test[n, 1], normalized = 0)\n",
        "    SE += (pred - rate_test[n, 2])**2\n",
        "\n",
        "RMSE = np.sqrt(SE/n_tests)\n",
        "print('User-user CF, RMSE =', RMSE)"
      ],
      "metadata": {
        "colab": {
          "base_uri": "https://localhost:8080/"
        },
        "id": "i-tMUMCv2MXp",
        "outputId": "9c10b315-4389-4a59-e3e2-50c01e6977d2"
      },
      "execution_count": 179,
      "outputs": [
        {
          "output_type": "stream",
          "name": "stdout",
          "text": [
            "User-user CF, RMSE = 1.0369740376881258\n"
          ]
        }
      ]
    },
    {
      "cell_type": "code",
      "source": [
        "rs.recommend2(108,10)"
      ],
      "metadata": {
        "colab": {
          "base_uri": "https://localhost:8080/"
        },
        "id": "8pEhOBv2HyyJ",
        "outputId": "90228a57-f8f9-4188-e4c5-b16b8ba73e3b"
      },
      "execution_count": 180,
      "outputs": [
        {
          "output_type": "stream",
          "name": "stdout",
          "text": [
            "10 bộ phim mà người dùng 108 có thể thích nhất là:\n"
          ]
        },
        {
          "output_type": "execute_result",
          "data": {
            "text/plain": [
              "[[336, 4.048851989600761],\n",
              " [821, 3.935895959308213],\n",
              " [123, 3.909549250284672],\n",
              " [27, 3.8711046308637274],\n",
              " [52, 3.8475861964416747],\n",
              " [515, 3.828508477897678],\n",
              " [136, 3.827088678055541],\n",
              " [699, 3.8242032770130514],\n",
              " [659, 3.823208842743754],\n",
              " [358, 3.818204012907152]]"
            ]
          },
          "metadata": {},
          "execution_count": 180
        }
      ]
    },
    {
      "cell_type": "markdown",
      "source": [
        "#Item-item CF"
      ],
      "metadata": {
        "id": "UPET9WVlMBwl"
      }
    },
    {
      "cell_type": "code",
      "source": [
        "rs = CF(rate_train, k = 30, uuCF = 0)\n",
        "rs.fit()\n",
        "\n",
        "n_tests = rate_test.shape[0]\n",
        "SE = 0 # squared error\n",
        "for n in range(n_tests):\n",
        "    pred = rs.pred(rate_test[n, 0], rate_test[n, 1], normalized = 0)\n",
        "    if str(pred) == \"nan\":\n",
        "      n_tests = n_tests - 1\n",
        "    else:\n",
        "      SE += (pred - rate_test[n, 2])**2\n",
        "\n",
        "RMSE = np.sqrt(SE/n_tests)\n",
        "print('Item-item CF, RMSE =', RMSE)"
      ],
      "metadata": {
        "colab": {
          "base_uri": "https://localhost:8080/"
        },
        "id": "iTfMO56u7q7x",
        "outputId": "2c3c8380-d775-4336-ac3f-673fb0417315"
      },
      "execution_count": 177,
      "outputs": [
        {
          "output_type": "stream",
          "name": "stdout",
          "text": [
            "Item-item CF, RMSE = 1.0159981337543753\n"
          ]
        }
      ]
    },
    {
      "cell_type": "code",
      "source": [
        "rs.recommend2(108,10)"
      ],
      "metadata": {
        "colab": {
          "base_uri": "https://localhost:8080/"
        },
        "id": "HOYAQ2E3_SJk",
        "outputId": "18d06d5b-97e1-4ea8-f647-aa93616f8e33"
      },
      "execution_count": 178,
      "outputs": [
        {
          "output_type": "stream",
          "name": "stdout",
          "text": [
            "10 bộ phim mà người dùng 108 có thể thích nhất là:\n"
          ]
        },
        {
          "output_type": "execute_result",
          "data": {
            "text/plain": [
              "[[234, 4.430914678227091],\n",
              " [683, 4.403141724927008],\n",
              " [140, 4.376049598882261],\n",
              " [469, 4.354735429921141],\n",
              " [257, 4.343761619439394],\n",
              " [240, 4.335488358825304],\n",
              " [587, 4.32800717033914],\n",
              " [23, 4.293723648338789],\n",
              " [270, 4.289102753905997],\n",
              " [509, 4.283191888096937]]"
            ]
          },
          "metadata": {},
          "execution_count": 178
        }
      ]
    }
  ]
}